{
  "nbformat": 4,
  "nbformat_minor": 0,
  "metadata": {
    "colab": {
      "name": "Untitled1.ipynb",
      "provenance": []
    },
    "kernelspec": {
      "name": "python3",
      "display_name": "Python 3"
    },
    "language_info": {
      "name": "python"
    }
  },
  "cells": [
    {
      "cell_type": "code",
      "metadata": {
        "colab": {
          "base_uri": "https://localhost:8080/"
        },
        "id": "wQdLCjPjBvul",
        "outputId": "9cd80678-2fbf-4c8c-a17b-b32d435b701f"
      },
      "source": [
        "#ex1\n",
        "def max_of_two( x, y ):\n",
        "    if x > y:\n",
        "     return x\n",
        "    else:\n",
        "     return y\n",
        "def max_of_three( x, y, z ):\n",
        "    return max_of_two( x, max_of_two( y, z ) )\n",
        "print(max_of_three(20,35,19))\n"
      ],
      "execution_count": null,
      "outputs": [
        {
          "output_type": "stream",
          "text": [
            "35\n"
          ],
          "name": "stdout"
        }
      ]
    },
    {
      "cell_type": "code",
      "metadata": {
        "id": "nBt3VHRDX9kk",
        "colab": {
          "base_uri": "https://localhost:8080/"
        },
        "outputId": "c3fe1c90-459f-4465-d4a0-fa56c6de9c15"
      },
      "source": [
        "#ex2\n",
        "def calculation(a, b):\n",
        "    return a+b, a-b\n",
        "\n",
        "res = calculation(40, 10)\n",
        "print(res)"
      ],
      "execution_count": null,
      "outputs": [
        {
          "output_type": "stream",
          "text": [
            "(50, 30)\n"
          ],
          "name": "stdout"
        }
      ]
    },
    {
      "cell_type": "code",
      "metadata": {
        "id": "3RFGGpXU76Fa"
      },
      "source": [
        "#ex3\n",
        "\n",
        "total = 0\n",
        "\n",
        "list1 = []\n",
        " \n",
        "for ele in range(0, len(list1)):\n",
        "    total = total + list1[ele]\n",
        "\n",
        "print(\"Sum of all elements in given list: \", total)\n",
        "Output: \n",
        "\n",
        " \n",
        "\n",
        "\n",
        "  \n",
        "\n",
        " \n",
        "\n",
        "\n",
        "\n",
        "\n",
        "\n"
      ],
      "execution_count": null,
      "outputs": []
    },
    {
      "cell_type": "code",
      "metadata": {
        "colab": {
          "base_uri": "https://localhost:8080/"
        },
        "id": "kuOAbYEwcCuq",
        "outputId": "c4d286c8-a9fc-4da4-fea8-46a8da2de7f2"
      },
      "source": [
        "#ex4\n",
        "items=[n for n in input().split('-')]\n",
        "items.sort()\n",
        "print('-'.join(items))\n",
        "\n"
      ],
      "execution_count": null,
      "outputs": [
        {
          "output_type": "stream",
          "text": [
            "green-red-black-white \n",
            "black-green-red-white \n"
          ],
          "name": "stdout"
        }
      ]
    },
    {
      "cell_type": "code",
      "metadata": {
        "id": "srDiL5enVdBN"
      },
      "source": [
        "#ex5\n",
        "import math \n",
        "d=input()\n",
        "list=d.spilt(\",\")\n",
        "list1=[]\n",
        "for i in range (0,len(list)):\n",
        "  list1.append(int(list[i]))\n",
        "print(list1)\n",
        "s=map(lambda d:math.sqrt(100*d)/30,list)\n",
        "for i in s:\n",
        "  print(int(i),\",\",end=\" \")\n",
        "  \n"
      ],
      "execution_count": null,
      "outputs": []
    }
  ]
}